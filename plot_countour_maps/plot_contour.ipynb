{
 "cells": [
  {
   "cell_type": "markdown",
   "id": "f17d1023",
   "metadata": {},
   "source": [
    "# PLOT CONTOUR"
   ]
  },
  {
   "cell_type": "markdown",
   "id": "e17aea99",
   "metadata": {},
   "source": [
    "This is the notebook to plot the unities from PL2D calculation\n",
    "\n",
    "For any doubt please email alessandro.cossard@unito.it"
   ]
  },
  {
   "cell_type": "code",
   "execution_count": null,
   "id": "cfbeb4fc",
   "metadata": {},
   "outputs": [],
   "source": [
    "from crystal_functions.file_readwrite import *\n",
    "from crystal_functions.plot import *"
   ]
  },
  {
   "cell_type": "code",
   "execution_count": null,
   "id": "d7c130e0",
   "metadata": {},
   "outputs": [],
   "source": [
    "urea_contour_plot = Properties_output().read_cry_contour('../data/pl2d_cry.SURFRHOO')"
   ]
  },
  {
   "cell_type": "code",
   "execution_count": null,
   "id": "c71c169a",
   "metadata": {},
   "outputs": [],
   "source": [
    "plot_cry_contour(urea_contour_plot)"
   ]
  }
 ],
 "metadata": {
  "kernelspec": {
   "display_name": "Python 3 (ipykernel)",
   "language": "python",
   "name": "python3"
  },
  "language_info": {
   "codemirror_mode": {
    "name": "ipython",
    "version": 3
   },
   "file_extension": ".py",
   "mimetype": "text/x-python",
   "name": "python",
   "nbconvert_exporter": "python",
   "pygments_lexer": "ipython3",
   "version": "3.8.12"
  }
 },
 "nbformat": 4,
 "nbformat_minor": 5
}
